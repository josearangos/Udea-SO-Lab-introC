{
 "cells": [
  {
   "cell_type": "markdown",
   "metadata": {},
   "source": [
    "# INTEGRANTES LAB 0\n",
    "\n",
    "# JOSE ALBERTO ARANGO SÁNCHEZ\n",
    "# ANDRES RAMIREZ HERNANDEZ\n",
    "\n",
    "\n",
    "# Actividades de entrega de los laboratorios\n",
    "\n",
    "## Pasos previos\n",
    "\n",
    "Inicialmente antes de empezar este laboratorio haga un **fork**. Luego descarguelo trabajelo localmente y luego actualice su repositorio con la solución. El enlace de este sera el enviado como solución del laboratorio.\n",
    "\n",
    "## Enunciado del laboratorio\n",
    "\n",
    "## Ejercicios de repaso\n"
   ]
  },
  {
   "cell_type": "markdown",
   "metadata": {},
   "source": [
    "### Parte 1\n",
    "\n",
    "**P1**. El propietario de Harry’s Car Sales paga a cada vendedor una comisión basada en sus ventas trimestrales. Los rangos de ventas y las correspondientes tasas son mostrades en la tabla que aparece a continuación:\n",
    "\n",
    "| Ventas trimestrales ($) | Comisión |\n",
    "|---|---|\n",
    "| 0 - 20000 |  Multiplicar las ventas por 5% |\n",
    "|  20001-50000 | Multiplicar la ventas sobre 20000 por 7% y entonces agregue 1000 al resultado |\n",
    "|  50001 o mas | Multiplicar la ventas sobre 50000 por 10% y entonces agregue 3100 al resultado  | \n",
    "\n",
    "Teniendo en cuenta lo anterior lleve a cabo las siguientes tareas:\n",
    "* Comprenda el problema y realice casos de obteniendo las comisiones para los siguientes valores de ventas: 20000, 20001, 30000, 50000, 50001, 75000, y –3.\n",
    "* Codifique el algoritmo en C de modo que permita el calculo de las comisiones. Lleve a cabo las pruebas con los casos de test elegidos en el item anterior.\n",
    "\n",
    "**P1**. Escriba un programa en C para desplegar la tabla de multiplicación desde 1 hasta N.\n",
    "\n",
    "Test de entrada:\n",
    "\n",
    "```\n",
    "Numero final (empezando de 1): 8\n",
    "```\n",
    "Salida esperada:\n",
    "\n",
    "```\n",
    "Tabla de multiplicación desde 1 hasta 8:\n",
    "\n",
    "1x1 = 1, 2x1 = 2, 3x1 = 3, 4x1 = 4, 5x1 = 5, 6x1 = 6, 7x1 = 7, 8x1 = 8\n",
    "...\n",
    "1x10 = 10, 2x10 = 20, 3x10 = 30, 4x10 = 40, 5x10 = 50, 6x10 = 60, 7x10 = 70, 8x10 = 80\n",
    "```"
   ]
  },
  {
   "cell_type": "markdown",
   "metadata": {},
   "source": [
    "![texto alternativo](./Images/P1.png)"
   ]
  },
  {
   "cell_type": "markdown",
   "metadata": {},
   "source": [
    "Teniendo en cuenta lo anterior lleve a cabo las siguientes tareas:\n",
    "\n",
    "Comprenda el problema y realice casos de obteniendo las comisiones para los siguientes valores de ventas: 20000, 20001, 30000, 50000, 50001, 75000, y –3.\n",
    "Codifique el algoritmo en C de modo que permita el calculo de las comisiones. Lleve a cabo las pruebas con los casos de test elegidos en el item anterior.\n",
    "P1. Escriba un programa en C para desplegar la tabla de multiplicación desde 1 hasta N.\n",
    "\n",
    "Test de entrada:\n",
    "\n",
    "Numero final (empezando de 1): 8\n",
    "Salida esperada:\n",
    "\n",
    "Tabla de multiplicación desde 1 hasta 8:\n",
    "\n",
    "1x1 = 1, 2x1 = 2, 3x1 = 3, 4x1 = 4, 5x1 = 5, 6x1 = 6, 7x1 = 7, 8x1 = 8\n",
    "...\n",
    "1x10 = 10, 2x10 = 20, 3x10 = 30, 4x10 = 40, 5x10 = 50, 6x10 = 60, 7x10 = 70, 8x10 = 80"
   ]
  },
  {
   "cell_type": "markdown",
   "metadata": {},
   "source": [
    "![texto alternativo](./Images/P1_1.png)"
   ]
  },
  {
   "cell_type": "markdown",
   "metadata": {},
   "source": [
    "**P2**. Escriba un programa en C para imprimir la siguiente secuencia (dado el numero de renglones):\n",
    "\n",
    "```\n",
    "1\n",
    "01\n",
    "101\n",
    "0101\n",
    "10101\n",
    "```"
   ]
  },
  {
   "cell_type": "markdown",
   "metadata": {},
   "source": [
    "![texto alternativo](./Images/P2.png)"
   ]
  },
  {
   "cell_type": "markdown",
   "metadata": {},
   "source": [
    "**P3**. Escriba una función llamada múltiplo que tome dos enteros y determine si el segundo es múltiplo del primero. La función deberá tomar dos argumentos enteros y devolver 1 si el segundo es un múltiplo del primero y 0 si no. Luego, utilice esta función en un programa que acepte como entrada una serie de pares de enteros."
   ]
  },
  {
   "cell_type": "markdown",
   "metadata": {},
   "source": [
    "![texto alternativo](./Images/P3.png)"
   ]
  },
  {
   "cell_type": "markdown",
   "metadata": {},
   "source": [
    "**P4**. Escribir un programa que lea dos números x y n y en una función, calcule la suma de la progresión geométrica:\n",
    "\n",
    "1 + x + x^2 + x^3 + x^4 + ⋯ + x^n"
   ]
  },
  {
   "cell_type": "markdown",
   "metadata": {},
   "source": [
    "![texto alternativo](./Images/P4.png)"
   ]
  },
  {
   "cell_type": "markdown",
   "metadata": {},
   "source": [
    "**P5**. Escriba un programa en C para encontrar la suma de las series: \n",
    "\n",
    "```\n",
    "1 - x^2/2! + x^4/4! - ...\n",
    "```\n",
    "\n",
    "Test data:\n",
    "```\n",
    "Valor de entrada de x: 2\n",
    "Numero de terminos: 5\n",
    "```\n",
    "\n",
    "Salida esperada:\n",
    "\n",
    "```\n",
    "suma: -0.415873\n",
    "```\n"
   ]
  },
  {
   "cell_type": "markdown",
   "metadata": {},
   "source": [
    "![texto alternativo](./Images/P5.png)"
   ]
  },
  {
   "cell_type": "markdown",
   "metadata": {},
   "source": [
    "**P6**. Escriba una función que tome un valor entero y devuelva el número con sus dígitos en reversa. Por ejemplo, dado el numero 7631, la función deberá devolver 1367."
   ]
  },
  {
   "cell_type": "markdown",
   "metadata": {},
   "source": [
    "![texto alternativo](./Images/P6.png)"
   ]
  },
  {
   "cell_type": "markdown",
   "metadata": {},
   "source": [
    "**P7**. Las computadoras están jugando un papel creciente en la educación. Escriba un programa que ayudaría a un alumno de escuela primaria a aprender a multiplicar (tablas entre 1 y 10). Utilice rand() para producir dos enteros positivos de un dígito. A continuación debería imprimir una pregunta coma la siguiente:\n",
    "\n",
    "```\n",
    "¿Cuánto es 6 veces 7?\n",
    "```\n",
    "\n",
    "A continuación el alumno escribe la respuesta. Su programa verifica la respuesta del alumno. Si es correcta imprime **\"Muy bien!\"** y a continuación solicita otra multiplicación. Si la respuesta es incorrecta imprimirá **\"No. Por favor intenta nuevamente\"** y a continuación permitirá que el alumno vuelva a intentar con la misma pregunta de forma repetida hasta que al final la conteste correctamente. El programa debe indicarle al alumno una forma de terminar la ejecución.\n"
   ]
  },
  {
   "cell_type": "markdown",
   "metadata": {},
   "source": [
    "La solución a este eneunciado se puede encontrar en el directorio Codigo."
   ]
  },
  {
   "cell_type": "markdown",
   "metadata": {},
   "source": [
    "**P8**. La utilización de las computadoras en la educación se conoce como Instrucción Asistida por Computadora (CAI). Un problema que se desarrolla en los entornos CIA es la fatiga del alumno. Este problema puede ser enfrentado variando el diálogo de la computadora para retener la atención del alumno. Modifique el programa del ejercicio anterior de modo que este escoja de forma aleatoria uno de cuatro posibles mensajes tanto para respuestas correctas como para respuestas incorrectas. Los cuatro posibles mensajes en cada caso son:\n",
    "\n",
    "**Respuestas correctas**:\n",
    "\n",
    "```\n",
    "Muy bien!\n",
    "Excelente!\n",
    "Buen trabajo!\n",
    "Sigue haciéndolo bien!\n",
    "```\n",
    "\n",
    "**Respuestas incorrectas**:\n",
    "\n",
    "```\n",
    "No. Por favor trata de nuevo.\n",
    "Incorrecto. Trata una vez más.\n",
    "No te rindas!\n",
    "No. Trata de nuevo\n",
    "```\n",
    "\n",
    "**Nota**: Mediante el generador de números aleatorios, seleccione un número entre 1 y 4 para desplegar un mensaje diferente para cada respuesta. Presente la respuesta mediante una estructura switch."
   ]
  },
  {
   "cell_type": "markdown",
   "metadata": {},
   "source": [
    "La solución a este eneunciado se puede encontrar en el directorio Codigo."
   ]
  },
  {
   "cell_type": "markdown",
   "metadata": {},
   "source": [
    "**P9**. Los sistemas más avanzados de CAI vigilan el rendimiento del alumno a lo largo de un periodo de tiempo. La decisión para empezar un tema nuevo se basa a menudo en el éxito del alumno en relación con temas anteriores. Modifique el programa del ejercicio anterior para contar el número de respuestas correctas e incorrectas del estudiante. Una vez el estudiante decida terminar la ejecución del programa, el programa debe calcular y mostrar el porcentaje de respuestas correctas respecto al total de preguntas que le hizo el programa. Si el porcentaje es menor a 75%, el programa deberá imprimir el mensaje **\"Por favor pídele ayuda al instructor\" y termina**."
   ]
  },
  {
   "cell_type": "markdown",
   "metadata": {},
   "source": [
    "La solución a este eneunciado se puede encontrar en el directorio Codigo."
   ]
  },
  {
   "cell_type": "code",
   "execution_count": null,
   "metadata": {},
   "outputs": [],
   "source": []
  }
 ],
 "metadata": {
  "kernelspec": {
   "display_name": "Python 3",
   "language": "python",
   "name": "python3"
  },
  "language_info": {
   "codemirror_mode": {
    "name": "ipython",
    "version": 3
   },
   "file_extension": ".py",
   "mimetype": "text/x-python",
   "name": "python",
   "nbconvert_exporter": "python",
   "pygments_lexer": "ipython3",
   "version": "3.7.6"
  }
 },
 "nbformat": 4,
 "nbformat_minor": 4
}
