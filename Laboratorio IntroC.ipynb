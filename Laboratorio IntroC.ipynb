{
 "cells": [
  {
   "cell_type": "code",
   "execution_count": 1,
   "metadata": {},
   "outputs": [],
   "source": [
    "#!pip install tutormagic\n",
    "%load_ext tutormagic"
   ]
  },
  {
   "cell_type": "markdown",
   "metadata": {},
   "source": [
    "**P1**. El propietario de Harry’s Car Sales paga a cada vendedor una comisión basada en sus ventas trimestrales. Los rangos de ventas y las correspondientes tasas son mostrades en la tabla que aparece a continuación:\n",
    "\n",
    "| Ventas trimestrales ($) | Comisión |\n",
    "|---|---|\n",
    "| 0 - 20000 |  Multiplicar las ventas por 5% |\n",
    "|  20001-50000 | Multiplicar la ventas sobre 20000 por 7% y entonces agregue 1000 al resultado |\n",
    "|  50001 o mas | Multiplicar la ventas sobre 50000 por 10% y entonces agregue 3100 al resultado  | \n",
    "\n",
    "Teniendo en cuenta lo anterior lleve a cabo las siguientes tareas:\n",
    "* Comprenda el problema y realice casos de obteniendo las comisiones para los siguientes valores de ventas: 20000, 20001, 30000, 50000, 50001, 75000, y –3.\n",
    "* Codifique el algoritmo en C de modo que permita el calculo de las comisiones. Lleve a cabo las pruebas con los casos de test elegidos en el item anterior."
   ]
  },
  {
   "cell_type": "code",
   "execution_count": 4,
   "metadata": {},
   "outputs": [
    {
     "data": {
      "text/html": [
       "<div class=\"text-center\"><strong><a style=\"box-sizing: border-box; padding: 0 5px; border: 1px solid #CFCFCF;\" target=\"_\" href=http://pythontutor.com/iframe-embed.html#code=%23include%20%3Cstdio.h%3E%0A%0Aint%20ventas%5B7%5D%3D%7B20000%2C%2020001%2C%2030000%2C%2050000%2C%2050001%2C%2075000%2C-3%7D%3B%0Aint%20%2APventas%3Dventas%3B%0Afloat%20comision%28int%20%2APventas%29%3B%0A%0Aint%20main%28%29%7B%0A%20%20%20%20%0A%20%20%20%20comision%28%2APventas%29%3B%0A%20%20%20%20%0A%7D%0A%0Afloat%20comision%28int%20%2APventas%29%7B%0A%20%20%20%20printf%28%22%25d%22%2CPventas%29%3B%0A%20%20%20%20return%203.14%3B%0A%7D%0A&origin=opt-frontend.js&cumulative=false&heapPrimitives=false&textReferences=false&curInstr=0&&verticalStack=false&py=c&rawInputLstJSON=%5B%5D&codeDivWidth=50%25&codeDivHeight=100%25>Python Tutor</a></strong></div>"
      ],
      "text/plain": [
       "<IPython.core.display.HTML object>"
      ]
     },
     "metadata": {},
     "output_type": "display_data"
    }
   ],
   "source": [
    "%%tutor -l c -k\n",
    "#include <stdio.h>\n",
    "\n",
    "int ventas[7]={20000, 20001, 30000, 50000, 50001, 75000,-3};\n",
    "int *Pventas=ventas;\n",
    "float comision(int *Pventas);\n",
    "\n",
    "int main(){\n",
    "    \n",
    "    comision(*Pventas);\n",
    "    \n",
    "}\n",
    "\n",
    "float comision(int *Pventas){\n",
    "    printf(\"%d\",Pventas);\n",
    "    return 3.14;\n",
    "}\n"
   ]
  },
  {
   "cell_type": "code",
   "execution_count": null,
   "metadata": {},
   "outputs": [],
   "source": []
  }
 ],
 "metadata": {
  "kernelspec": {
   "display_name": "Python 3",
   "language": "python",
   "name": "python3"
  },
  "language_info": {
   "codemirror_mode": {
    "name": "ipython",
    "version": 3
   },
   "file_extension": ".py",
   "mimetype": "text/x-python",
   "name": "python",
   "nbconvert_exporter": "python",
   "pygments_lexer": "ipython3",
   "version": "3.7.3"
  }
 },
 "nbformat": 4,
 "nbformat_minor": 2
}
